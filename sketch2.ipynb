{
 "cells": [
  {
   "cell_type": "markdown",
   "id": "d71a3bd3",
   "metadata": {},
   "source": [
    "# LETS GROW MORE TASKS\n",
    "\n",
    "## Task 1 : Beginner Level\n",
    "\n",
    "## Task Name : Image to Pencil Sketch with Python\n",
    "\n",
    "### Intern Name : Moholkar Rutuja Ashok .\n",
    "\n",
    "#### Email id : moholkarrutuja93@gmail.com"
   ]
  },
  {
   "cell_type": "markdown",
   "id": "64833b69",
   "metadata": {},
   "source": [
    "## _Task Description :_ \n",
    "\n",
    "                               We need to read the image in RGB format and then convert it to a grayscale image. This will turn an image into a classic black and white photo.Then the next thing to do is invert grayscale image also called negative image,this will be our inverted grayscale image.Inversion can be used to enhance details.Then we can finally create the pencil sketch by mixing the grayscale image with the inverted blurry image.This can be done by dividing the grayscale image by the inverted blurry image."
   ]
  },
  {
   "cell_type": "markdown",
   "id": "33aeb125",
   "metadata": {},
   "source": [
    "## Importing the libraries"
   ]
  },
  {
   "cell_type": "code",
   "execution_count": null,
   "id": "6938c38f",
   "metadata": {},
   "outputs": [],
   "source": [
    "import cv2\n",
    "import numpy as np\n",
    "from PIL import Image\n",
    "\n",
    "from IPython.display import display\n"
   ]
  },
  {
   "cell_type": "markdown",
   "id": "d79eda88",
   "metadata": {},
   "source": [
    "## Display the image"
   ]
  },
  {
   "cell_type": "code",
   "execution_count": null,
   "id": "e9a80bb4",
   "metadata": {},
   "outputs": [],
   "source": [
    "oringinal_img = cv2.imread(r'C:\\Users\\abc\\Desktop\\LGM2\\flower.jpg')"
   ]
  },
  {
   "cell_type": "code",
   "execution_count": null,
   "id": "03f7e2ce",
   "metadata": {},
   "outputs": [],
   "source": [
    "oringinal_img=cv2.cvtColor(oringinal_img,cv2.COLOR_BGR2RGB)"
   ]
  },
  {
   "cell_type": "code",
   "execution_count": null,
   "id": "ed2a05d1",
   "metadata": {},
   "outputs": [],
   "source": [
    "display(Image.fromarray(oringinal_img))"
   ]
  },
  {
   "cell_type": "markdown",
   "id": "461b9c06",
   "metadata": {},
   "source": [
    "## Converting the original image into grayscale"
   ]
  },
  {
   "cell_type": "code",
   "execution_count": null,
   "id": "ce85e6df",
   "metadata": {},
   "outputs": [],
   "source": [
    "gray_image = cv2.cvtColor(oringinal_img,cv2.COLOR_BGR2GRAY)\n",
    "display(Image.fromarray(gray_image))"
   ]
  },
  {
   "cell_type": "markdown",
   "id": "3ec2ff4c",
   "metadata": {},
   "source": [
    "## Inverting the grayscale image"
   ]
  },
  {
   "cell_type": "code",
   "execution_count": null,
   "id": "8ce7ae5e",
   "metadata": {},
   "outputs": [],
   "source": [
    "inv_gray_image=255-gray_image"
   ]
  },
  {
   "cell_type": "code",
   "execution_count": null,
   "id": "df00215f",
   "metadata": {},
   "outputs": [],
   "source": [
    "inv_gray_image"
   ]
  },
  {
   "cell_type": "code",
   "execution_count": null,
   "id": "642e8081",
   "metadata": {},
   "outputs": [],
   "source": [
    "display(Image.fromarray(inv_gray_image))"
   ]
  },
  {
   "cell_type": "markdown",
   "id": "085340d4",
   "metadata": {},
   "source": [
    "## Blur the image using GaussianBlur() and display that image"
   ]
  },
  {
   "cell_type": "code",
   "execution_count": null,
   "id": "c816ff44",
   "metadata": {},
   "outputs": [],
   "source": [
    "blur_image=cv2.GaussianBlur(inv_gray_image,(35,35),0)\n"
   ]
  },
  {
   "cell_type": "code",
   "execution_count": null,
   "id": "216bc1c8",
   "metadata": {},
   "outputs": [],
   "source": [
    "display(Image.fromarray(blur_image))"
   ]
  },
  {
   "cell_type": "markdown",
   "id": "abad8352",
   "metadata": {},
   "source": [
    "## Mixing the grayscale image and inverted blur image"
   ]
  },
  {
   "cell_type": "code",
   "execution_count": null,
   "id": "fcf2de39",
   "metadata": {},
   "outputs": [],
   "source": [
    "img=255-blur_image\n",
    "def dodge(gray_imblur_image):\n",
    "    return cv2.divide(gray_image,img,scale = 400.0)"
   ]
  },
  {
   "cell_type": "code",
   "execution_count": null,
   "id": "bb1f33c2",
   "metadata": {},
   "outputs": [],
   "source": [
    "pencil_sketch=dodge(img)\n",
    "display(Image.fromarray(pencil_sketch))"
   ]
  },
  {
   "cell_type": "markdown",
   "id": "42be19d9",
   "metadata": {},
   "source": [
    "### Inference : Results of image to pencil sketch is shown"
   ]
  },
  {
   "cell_type": "markdown",
   "id": "a49c292f",
   "metadata": {},
   "source": [
    "## Visualize the original image and pencil sketch image"
   ]
  },
  {
   "cell_type": "code",
   "execution_count": null,
   "id": "a5763daa",
   "metadata": {},
   "outputs": [],
   "source": [
    "display(Image.fromarray(oringinal_img))\n",
    "display(Image.fromarray(pencil_sketch))"
   ]
  },
  {
   "cell_type": "code",
   "execution_count": null,
   "id": "17a0610e",
   "metadata": {},
   "outputs": [],
   "source": []
  },
  {
   "cell_type": "code",
   "execution_count": null,
   "id": "bb1b8b69",
   "metadata": {},
   "outputs": [],
   "source": []
  }
 ],
 "metadata": {
  "kernelspec": {
   "display_name": "Python 3 (ipykernel)",
   "language": "python",
   "name": "python3"
  },
  "language_info": {
   "codemirror_mode": {
    "name": "ipython",
    "version": 3
   },
   "file_extension": ".py",
   "mimetype": "text/x-python",
   "name": "python",
   "nbconvert_exporter": "python",
   "pygments_lexer": "ipython3",
   "version": "3.9.7"
  }
 },
 "nbformat": 4,
 "nbformat_minor": 5
}
